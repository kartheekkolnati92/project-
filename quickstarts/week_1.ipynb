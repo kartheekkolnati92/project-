{
  "cells": [
    {
      "cell_type": "markdown",
      "metadata": {
        "id": "Tce3stUlHN0L"
      },
      "source": [
        "##### Copyright 2024 Google LLC."
      ]
    },
    {
      "cell_type": "code",
      "source": [
        "lst =[1,4,32,7,8,90,9,98,676,54,12,14,102,42,54,3,4,5,6,7,8,9,11]# lst is alist\n",
        "type(lst)\n",
        "num = int(input(\"enter a number:\"))\n",
        "if num in lst:\n",
        "  print('greatjob')"
      ],
      "metadata": {
        "id": "zB7twwMsE2hG"
      },
      "execution_count": null,
      "outputs": []
    }
  ],
  "metadata": {
    "colab": {
      "name": "Prompting.ipynb",
      "toc_visible": true,
      "provenance": []
    },
    "google": {
      "image_path": "/static/site-assets/images/docs/logo-python.svg",
      "keywords": [
        "examples",
        "gemini",
        "beginner",
        "googleai",
        "quickstart",
        "python",
        "text",
        "chat",
        "vision",
        "embed"
      ]
    },
    "kernelspec": {
      "display_name": "Python 3",
      "name": "python3"
    }
  },
  "nbformat": 4,
  "nbformat_minor": 0
}